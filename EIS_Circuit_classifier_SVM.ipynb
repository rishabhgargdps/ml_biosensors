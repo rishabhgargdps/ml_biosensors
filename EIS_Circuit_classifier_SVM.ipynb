{
  "nbformat": 4,
  "nbformat_minor": 0,
  "metadata": {
    "colab": {
      "name": "EIS_Circuit_classifier-SVM.ipynb",
      "provenance": [],
      "collapsed_sections": []
    },
    "kernelspec": {
      "name": "python3",
      "display_name": "Python 3"
    },
    "language_info": {
      "name": "python"
    }
  },
  "cells": [
    {
      "cell_type": "code",
      "execution_count": null,
      "metadata": {
        "id": "-ejFPsbL4sza",
        "colab": {
          "base_uri": "https://localhost:8080/"
        },
        "outputId": "2283264c-827f-4d32-8f2b-e65c5819f9a3"
      },
      "outputs": [
        {
          "output_type": "stream",
          "name": "stdout",
          "text": [
            "                   0         1         2         3         4         5    \\\n",
            "rbf_test      0.419355  0.451613  0.354839  0.451613  0.612903  0.451613   \n",
            "rbf_train     0.966667  0.958333  0.991667  0.975000  0.966667  0.958333   \n",
            "linear_test   0.580645  0.516129  0.483871  0.483871  0.645161  0.387097   \n",
            "linear_train  0.908333  0.883333  0.925000  0.933333  0.941667  0.933333   \n",
            "poly_test     0.580645  0.516129  0.419355  0.483871  0.612903  0.419355   \n",
            "poly_train    0.891667  0.875000  0.900000  0.900000  0.875000  0.908333   \n",
            "\n",
            "                   6         7         8         9    ...       91        92   \\\n",
            "rbf_test      0.516129  0.387097  0.419355  0.419355  ...  0.387097  0.387097   \n",
            "rbf_train     0.950000  0.950000  0.975000  0.958333  ...  0.966667  0.983333   \n",
            "linear_test   0.580645  0.516129  0.483871  0.516129  ...  0.516129  0.387097   \n",
            "linear_train  0.916667  0.925000  0.925000  0.908333  ...  0.925000  0.933333   \n",
            "poly_test     0.580645  0.419355  0.419355  0.612903  ...  0.483871  0.419355   \n",
            "poly_train    0.883333  0.916667  0.891667  0.883333  ...  0.891667  0.916667   \n",
            "\n",
            "                   93        94        95        96        97        98   \\\n",
            "rbf_test      0.483871  0.290323  0.387097  0.483871  0.451613  0.322581   \n",
            "rbf_train     0.950000  0.958333  0.975000  0.966667  0.966667  0.966667   \n",
            "linear_test   0.548387  0.516129  0.451613  0.483871  0.548387  0.290323   \n",
            "linear_train  0.900000  0.908333  0.941667  0.925000  0.908333  0.925000   \n",
            "poly_test     0.419355  0.419355  0.548387  0.387097  0.548387  0.290323   \n",
            "poly_train    0.900000  0.891667  0.925000  0.891667  0.866667  0.925000   \n",
            "\n",
            "                   99        100  \n",
            "rbf_test      0.354839  0.387097  \n",
            "rbf_train     0.958333  0.966667  \n",
            "linear_test   0.451613  0.483871  \n",
            "linear_train  0.925000  0.916667  \n",
            "poly_test     0.516129  0.483871  \n",
            "poly_train    0.916667  0.925000  \n",
            "\n",
            "[6 rows x 101 columns]\n"
          ]
        }
      ],
      "source": [
        "# Code added for warnings\n",
        "import warnings\n",
        "warnings.filterwarnings('ignore')\n",
        "\n",
        "from numpy import *\n",
        "import numpy as np\n",
        "import pandas as pd\n",
        "import sklearn as sk\n",
        "from sklearn.model_selection import train_test_split\n",
        "from tensorflow.python.framework import ops\n",
        "from sklearn import preprocessing\n",
        "from sklearn import svm\n",
        "import os\n",
        "from sklearn import manifold\n",
        "import matplotlib.pyplot as plt\n",
        "\n",
        "\n",
        "# input data\n",
        "data_train=pd.read_csv('EIS-data-demo.csv',sep=',')\n",
        "\n",
        "# Code added for error handling\n",
        "data_train = data_train.replace([np.inf, -np.inf], np.nan)\n",
        "data_train = data_train.dropna()\n",
        "\n",
        "labels=data_train['Type'][:,np.newaxis]\n",
        "features=data_train.drop('Type', axis=1)#'DOI',\n",
        "\n",
        "C_value=5\n",
        "gamma_value=0.35\n",
        "\n",
        "def ml_eis(features, labels, random_state,C_value,gamma_value):\n",
        "\n",
        "    X_train,X_test,Y_train,Y_test=train_test_split(features, labels, test_size=0.2) #, random_state=0\n",
        "\n",
        "    # n_samples, n_features = X_train.shape\n",
        "\n",
        "    # kernel = 'rbf'\n",
        "    clf_rbf = svm.SVC(kernel='rbf',C=C_value,gamma=gamma_value,probability=True)\n",
        "    clf_rbf.fit(X_train,Y_train)\n",
        "    rbf_test = clf_rbf.score(X_test,Y_test)\n",
        "    rbf_train = clf_rbf.score(X_train,Y_train)\n",
        "\n",
        "    # kernel = 'linear'\n",
        "    clf_linear = svm.SVC(kernel='linear',C=C_value,gamma=gamma_value)\n",
        "    clf_linear.fit(X_train,Y_train)\n",
        "    linear_test = clf_linear.score(X_test,Y_test)\n",
        "    linear_train = clf_linear.score(X_train,Y_train)\n",
        "\n",
        "    #kernel = 'poly'\n",
        "    clf_poly = svm.SVC(kernel='poly',C=C_value)\n",
        "    clf_poly.fit(X_train,Y_train)\n",
        "    poly_test = clf_poly.score(X_test,Y_test)\n",
        "    poly_train = clf_poly.score(X_train,Y_train)\n",
        "\n",
        "    result_score=pd.DataFrame([rbf_test,rbf_train,linear_test,linear_train,poly_test, poly_train], columns=[random_state], index=['rbf_test','rbf_train','linear_test','linear_train','poly_test', 'poly_train'])\n",
        "\n",
        "    return result_score\n",
        "\n",
        "result_score= ml_eis(features, labels, 0, C_value,gamma_value)\n",
        "\n",
        "for num in range(1,101):\n",
        "    result_score_1= ml_eis(features, labels, num, C_value,gamma_value)\n",
        "\n",
        "    result_score=result_score.join(result_score_1)\n",
        "    \n",
        "result_score.to_csv('output.csv',sep=',')\n",
        "\n",
        "print (result_score)"
      ]
    },
    {
      "cell_type": "code",
      "source": [
        "res = result_score.values.max(1)"
      ],
      "metadata": {
        "id": "vQdwF2r41CiC"
      },
      "execution_count": null,
      "outputs": []
    },
    {
      "cell_type": "code",
      "source": [
        "print(res[0], res[2], res[4])"
      ],
      "metadata": {
        "colab": {
          "base_uri": "https://localhost:8080/"
        },
        "id": "h4a1NnDC1k0E",
        "outputId": "da0ddaaf-a36a-41e8-f53e-034358dfb99c"
      },
      "execution_count": null,
      "outputs": [
        {
          "output_type": "stream",
          "name": "stdout",
          "text": [
            "0.6451612903225806 0.7096774193548387 0.6774193548387096\n"
          ]
        }
      ]
    }
  ]
}