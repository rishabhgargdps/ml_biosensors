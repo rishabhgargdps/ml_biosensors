{
  "nbformat": 4,
  "nbformat_minor": 0,
  "metadata": {
    "colab": {
      "name": "svr_params.ipynb",
      "provenance": [],
      "collapsed_sections": []
    },
    "kernelspec": {
      "name": "python3",
      "display_name": "Python 3"
    },
    "language_info": {
      "name": "python"
    }
  },
  "cells": [
    {
      "cell_type": "code",
      "metadata": {
        "id": "p_M4rA8V2r47"
      },
      "source": [
        "import pandas as pd\n",
        "import numpy as np\n",
        "import matplotlib.pyplot as plt\n",
        "from sklearn.model_selection import train_test_split"
      ],
      "execution_count": null,
      "outputs": []
    },
    {
      "cell_type": "code",
      "metadata": {
        "id": "AR8Jbu2B23W2"
      },
      "source": [
        "df = pd.read_csv('./ML_params.csv')"
      ],
      "execution_count": null,
      "outputs": []
    },
    {
      "cell_type": "code",
      "metadata": {
        "id": "2EcTvSZV3HdV"
      },
      "source": [
        "df.rename(columns={\"Conc. Of 2-BHP (mol L-1)\": \"Conc\"}, inplace = True)"
      ],
      "execution_count": null,
      "outputs": []
    },
    {
      "cell_type": "code",
      "metadata": {
        "colab": {
          "base_uri": "https://localhost:8080/",
          "height": 269
        },
        "id": "Ne-h2FI74-sB",
        "outputId": "ee59b387-bebd-46d6-bbaf-1ef2d4219487"
      },
      "source": [
        "df"
      ],
      "execution_count": null,
      "outputs": [
        {
          "output_type": "execute_result",
          "data": {
            "text/html": [
              "<div>\n",
              "<style scoped>\n",
              "    .dataframe tbody tr th:only-of-type {\n",
              "        vertical-align: middle;\n",
              "    }\n",
              "\n",
              "    .dataframe tbody tr th {\n",
              "        vertical-align: top;\n",
              "    }\n",
              "\n",
              "    .dataframe thead th {\n",
              "        text-align: right;\n",
              "    }\n",
              "</style>\n",
              "<table border=\"1\" class=\"dataframe\">\n",
              "  <thead>\n",
              "    <tr style=\"text-align: right;\">\n",
              "      <th></th>\n",
              "      <th>Rs</th>\n",
              "      <th>Rct</th>\n",
              "      <th>Qdl</th>\n",
              "      <th>n</th>\n",
              "      <th>Conc</th>\n",
              "    </tr>\n",
              "  </thead>\n",
              "  <tbody>\n",
              "    <tr>\n",
              "      <th>0</th>\n",
              "      <td>1.5</td>\n",
              "      <td>42</td>\n",
              "      <td>2.5</td>\n",
              "      <td>0.86</td>\n",
              "      <td>0.0000</td>\n",
              "    </tr>\n",
              "    <tr>\n",
              "      <th>1</th>\n",
              "      <td>1.4</td>\n",
              "      <td>43</td>\n",
              "      <td>1.7</td>\n",
              "      <td>0.88</td>\n",
              "      <td>0.0001</td>\n",
              "    </tr>\n",
              "    <tr>\n",
              "      <th>2</th>\n",
              "      <td>1.4</td>\n",
              "      <td>47</td>\n",
              "      <td>1.5</td>\n",
              "      <td>0.88</td>\n",
              "      <td>0.0002</td>\n",
              "    </tr>\n",
              "    <tr>\n",
              "      <th>3</th>\n",
              "      <td>1.4</td>\n",
              "      <td>58</td>\n",
              "      <td>1.4</td>\n",
              "      <td>0.88</td>\n",
              "      <td>0.0003</td>\n",
              "    </tr>\n",
              "    <tr>\n",
              "      <th>4</th>\n",
              "      <td>1.5</td>\n",
              "      <td>57</td>\n",
              "      <td>1.4</td>\n",
              "      <td>0.90</td>\n",
              "      <td>0.0005</td>\n",
              "    </tr>\n",
              "    <tr>\n",
              "      <th>5</th>\n",
              "      <td>1.5</td>\n",
              "      <td>66</td>\n",
              "      <td>0.7</td>\n",
              "      <td>0.91</td>\n",
              "      <td>0.0010</td>\n",
              "    </tr>\n",
              "    <tr>\n",
              "      <th>6</th>\n",
              "      <td>1.4</td>\n",
              "      <td>84</td>\n",
              "      <td>0.7</td>\n",
              "      <td>0.91</td>\n",
              "      <td>0.0020</td>\n",
              "    </tr>\n",
              "  </tbody>\n",
              "</table>\n",
              "</div>"
            ],
            "text/plain": [
              "    Rs  Rct  Qdl     n    Conc\n",
              "0  1.5   42  2.5  0.86  0.0000\n",
              "1  1.4   43  1.7  0.88  0.0001\n",
              "2  1.4   47  1.5  0.88  0.0002\n",
              "3  1.4   58  1.4  0.88  0.0003\n",
              "4  1.5   57  1.4  0.90  0.0005\n",
              "5  1.5   66  0.7  0.91  0.0010\n",
              "6  1.4   84  0.7  0.91  0.0020"
            ]
          },
          "metadata": {},
          "execution_count": 18
        }
      ]
    },
    {
      "cell_type": "code",
      "metadata": {
        "id": "BhU4Byd53Izg"
      },
      "source": [
        "X = df.iloc[:, df.columns != \"Conc\"].values\n",
        "y = df[\"Conc\"].values"
      ],
      "execution_count": null,
      "outputs": []
    },
    {
      "cell_type": "code",
      "metadata": {
        "colab": {
          "base_uri": "https://localhost:8080/"
        },
        "id": "9FGjZoLD6CAT",
        "outputId": "1b5cdac9-2957-4e0f-b62b-2c9dfea3672b"
      },
      "source": [
        "from sklearn.svm import SVR\n",
        "X_train, X_test, y_train, y_test = train_test_split(X, y)\n",
        "regressor = SVR(kernel= 'rbf')\n",
        "regressor.fit(X_train, y_train)\n",
        "y_hat = regressor.predict([X_test[0]])\n",
        "print(y_test[0], y_hat)"
      ],
      "execution_count": null,
      "outputs": [
        {
          "output_type": "stream",
          "name": "stdout",
          "text": [
            "0.001 [0.001]\n"
          ]
        }
      ]
    }
  ]
}