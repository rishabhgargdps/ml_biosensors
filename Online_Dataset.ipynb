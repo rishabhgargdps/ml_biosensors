{
  "nbformat": 4,
  "nbformat_minor": 0,
  "metadata": {
    "colab": {
      "name": "Online_Dataset.ipynb",
      "provenance": []
    },
    "kernelspec": {
      "name": "python3",
      "display_name": "Python 3"
    },
    "language_info": {
      "name": "python"
    }
  },
  "cells": [
    {
      "cell_type": "code",
      "metadata": {
        "id": "1CYxWynyG8tc"
      },
      "source": [
        "from impedance import preprocessing"
      ],
      "execution_count": null,
      "outputs": []
    },
    {
      "cell_type": "code",
      "metadata": {
        "id": "cbvnGFx4HHlE"
      },
      "source": [
        "frequencies, Z = preprocessing.readCSV('./exampleData.csv')"
      ],
      "execution_count": null,
      "outputs": []
    },
    {
      "cell_type": "code",
      "metadata": {
        "id": "HqPmEzwHHI0F"
      },
      "source": [
        "frequencies, Z = preprocessing.ignoreBelowX(frequencies, Z)"
      ],
      "execution_count": null,
      "outputs": []
    },
    {
      "cell_type": "code",
      "metadata": {
        "id": "Xshk4YxOHKM2"
      },
      "source": [
        "# here we are assuming that we know the correct circuit model and are estimating the parameters\n",
        "from impedance.models.circuits import CustomCircuit\n",
        "import numpy as np\n",
        "\n",
        "circuit = 'R0-p(R1,C1)-p(R2-Wo1,C2)'\n",
        "initial_guess_list = [.01, .01, 100, .01, .05, 100, 1]\n",
        "initial_guess = np.array(initial_guess_list)\n",
        "\n",
        "circuit = CustomCircuit(circuit, initial_guess=initial_guess)"
      ],
      "execution_count": null,
      "outputs": []
    },
    {
      "cell_type": "code",
      "metadata": {
        "colab": {
          "base_uri": "https://localhost:8080/"
        },
        "id": "7rAfd-a_HK9n",
        "outputId": "01d6d51c-8718-425d-d8a1-d6e9e80cb701"
      },
      "source": [
        "circuit.fit(frequencies, Z)"
      ],
      "execution_count": null,
      "outputs": [
        {
          "output_type": "execute_result",
          "data": {
            "text/plain": [
              "<impedance.models.circuits.circuits.CustomCircuit at 0x7f521bc5ef90>"
            ]
          },
          "metadata": {},
          "execution_count": 28
        }
      ]
    },
    {
      "cell_type": "code",
      "metadata": {
        "colab": {
          "base_uri": "https://localhost:8080/"
        },
        "id": "E47tKU-bHMKz",
        "outputId": "ea6646f0-c2ad-4966-d7af-324452293c08"
      },
      "source": [
        "circuit.parameters_"
      ],
      "execution_count": null,
      "outputs": [
        {
          "output_type": "execute_result",
          "data": {
            "text/plain": [
              "array([1.65187261e-02, 8.67655053e-03, 3.32142554e+00, 5.38996275e-03,\n",
              "       6.30927435e-02, 2.32520435e+02, 2.19541825e-01])"
            ]
          },
          "metadata": {},
          "execution_count": 29
        }
      ]
    },
    {
      "cell_type": "code",
      "metadata": {
        "id": "hq3o1gjvHOEj"
      },
      "source": [
        "# for prediction of impedances using the .predict() method on the frequencies\n",
        "Z_fit = circuit.predict(frequencies)"
      ],
      "execution_count": null,
      "outputs": []
    },
    {
      "cell_type": "code",
      "metadata": {
        "colab": {
          "base_uri": "https://localhost:8080/",
          "height": 278
        },
        "id": "6Diyz-EBHPji",
        "outputId": "ea72e49a-78f5-4b70-8ef9-1ae30050ac78"
      },
      "source": [
        "import matplotlib.pyplot as plt\n",
        "from impedance.visualization import plot_nyquist\n",
        "\n",
        "fig, ax = plt.subplots()\n",
        "plot_nyquist(ax, Z, fmt='o')\n",
        "plot_nyquist(ax, Z_fit, fmt='o')\n",
        "\n",
        "plt.legend(['Data', 'Fit'])\n",
        "plt.show()"
      ],
      "execution_count": null,
      "outputs": [
        {
          "output_type": "display_data",
          "data": {
            "image/png": "[encoded data removed]",
            "text/plain": [
              "<Figure size 432x288 with 1 Axes>"
            ]
          },
          "metadata": {
            "needs_background": "light"
          }
        }
      ]
    }
  ]
}