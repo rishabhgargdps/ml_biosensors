{
  "nbformat": 4,
  "nbformat_minor": 2,
  "metadata": {
    "colab": {
      "name": "option_2.ipynb",
      "provenance": []
    },
    "kernelspec": {
      "name": "python3",
      "display_name": "Python 3.8.12 64-bit"
    },
    "language_info": {
      "name": "python",
      "version": "3.8.12"
    },
    "interpreter": {
      "hash": "df0893f56f349688326838aaeea0de204df53a132722cbd565e54b24a8fec5f6"
    }
  },
  "cells": [
    {
      "cell_type": "markdown",
      "source": [
        "## 1) WHEN WE KNOW THE CIRCUIT MODEL IN ADVANCE, WE CAN DIRECTLY USE THE LIBRARY"
      ],
      "metadata": {
        "id": "1v4ZK4nXIku1"
      }
    },
    {
      "cell_type": "code",
      "execution_count": 3,
      "source": [
        "from impedance import preprocessing"
      ],
      "outputs": [],
      "metadata": {
        "id": "uX6QwpZOFGLt"
      }
    },
    {
      "cell_type": "code",
      "execution_count": 4,
      "source": [
        "frequencies, Z = preprocessing.readCSV('./exampleData.csv')"
      ],
      "outputs": [],
      "metadata": {
        "id": "SKmGddlaFz5v"
      }
    },
    {
      "cell_type": "code",
      "execution_count": 5,
      "source": [
        "frequencies, Z = preprocessing.ignoreBelowX(frequencies, Z)"
      ],
      "outputs": [],
      "metadata": {
        "id": "cwrbwj-LG0-u"
      }
    },
    {
      "cell_type": "code",
      "execution_count": 6,
      "source": [
        "# here we are assuming that we know the correct circuit model and are estimating the parameters\n",
        "from impedance.models.circuits import CustomCircuit\n",
        "\n",
        "circuit = 'R0-p(R1,C1)-p(R2-Wo1,C2)'\n",
        "initial_guess = [.01, .01, 100, .01, .05, 100, 1]\n",
        "\n",
        "circuit = CustomCircuit(circuit, initial_guess=initial_guess)"
      ],
      "outputs": [],
      "metadata": {
        "id": "sdoGPxdAG2t-"
      }
    },
    {
      "cell_type": "code",
      "execution_count": 7,
      "source": [
        "circuit.fit(frequencies, Z)"
      ],
      "outputs": [
        {
          "output_type": "execute_result",
          "data": {
            "text/plain": [
              "<impedance.models.circuits.circuits.CustomCircuit at 0x7f88eaf00210>"
            ]
          },
          "metadata": {},
          "execution_count": 7
        }
      ],
      "metadata": {
        "colab": {
          "base_uri": "https://localhost:8080/"
        },
        "id": "z8NLxMthG8_3",
        "outputId": "c847cc0b-50e4-403f-e6bd-320bb0953bc5"
      }
    },
    {
      "cell_type": "code",
      "execution_count": 8,
      "source": [
        "circuit.parameters_"
      ],
      "outputs": [
        {
          "output_type": "execute_result",
          "data": {
            "text/plain": [
              "array([1.65187261e-02, 8.67655053e-03, 3.32142554e+00, 5.38996275e-03,\n",
              "       6.30927435e-02, 2.32520435e+02, 2.19541825e-01])"
            ]
          },
          "metadata": {},
          "execution_count": 8
        }
      ],
      "metadata": {
        "colab": {
          "base_uri": "https://localhost:8080/"
        },
        "id": "Rq3ndfUPG_Wu",
        "outputId": "7d181c93-6f6f-4d0e-bbb2-31902516baae"
      }
    },
    {
      "cell_type": "code",
      "execution_count": 9,
      "source": [
        "# for prediction of impedances using the .predict() method on the frequencies\n",
        "Z_fit = circuit.predict(frequencies)"
      ],
      "outputs": [],
      "metadata": {
        "id": "lOCYvdvyHC2K"
      }
    },
    {
      "cell_type": "code",
      "execution_count": 10,
      "source": [
        "import matplotlib.pyplot as plt\n",
        "from impedance.visualization import plot_nyquist\n",
        "\n",
        "fig, ax = plt.subplots()\n",
        "plot_nyquist(ax, Z, fmt='o')\n",
        "plot_nyquist(ax, Z_fit, fmt='-')\n",
        "\n",
        "plt.legend(['Data', 'Fit'])\n",
        "plt.show()"
      ],
      "outputs": [
        {
          "output_type": "display_data",
          "data": {
            "image/png": "[encoded data removed]",
            "text/plain": [
              "<Figure size 432x288 with 1 Axes>"
            ]
          },
          "metadata": {
            "needs_background": "light"
          }
        }
      ],
      "metadata": {
        "colab": {
          "base_uri": "https://localhost:8080/",
          "height": 278
        },
        "id": "LKVkS__IICgY",
        "outputId": "eaa270df-8bb3-498e-ac1a-f2284cf5fcf3"
      }
    },
    {
      "cell_type": "markdown",
      "source": [
        "Hence this equivalent circuit fits the data well!"
      ],
      "metadata": {
        "id": "dNNkHXyhI4Tl"
      }
    },
    {
      "cell_type": "markdown",
      "source": [
        "## 2) WHEN WE DO NOT KNOW THE CIRCUIT MODEL IN ADVANCE"
      ],
      "metadata": {
        "id": "7CYtDo-tI7nn"
      }
    },
    {
      "cell_type": "markdown",
      "source": [
        "We can use Nyquist plot characteristics and a free GUI tool to determine the circuit model:\n",
        "https://www.gamry.com/assets/Application-Notes/Equivalent-Circuit-Modeling-in-EIS.pdf"
      ],
      "metadata": {
        "id": "A7dmlZWxK0k-"
      }
    },
    {
      "cell_type": "markdown",
      "source": [
        "We can then use the same procedure as above for model fitting"
      ],
      "metadata": {
        "id": "VroYpxdpLB72"
      }
    }
  ]
}